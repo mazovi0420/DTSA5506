{
 "cells": [
  {
   "cell_type": "code",
   "execution_count": 1,
   "metadata": {
    "ExecuteTime": {
     "end_time": "2024-02-24T03:56:28.958225900Z",
     "start_time": "2024-02-24T03:56:19.583644500Z"
    }
   },
   "outputs": [],
   "source": [
    "import random\n",
    "import warnings\n",
    "import math\n",
    "warnings.simplefilter(action='ignore', category=FutureWarning)\n",
    "\n",
    "import numpy as np\n",
    "import pandas as pd\n",
    "import matplotlib.pyplot as plt\n",
    "import seaborn as sns\n",
    "\n",
    "from sklearn.model_selection import train_test_split\n",
    "from sklearn.feature_extraction.text import TfidfVectorizer\n",
    "from sklearn.feature_extraction.text import CountVectorizer\n",
    "from sklearn.metrics.pairwise import cosine_similarity\n",
    "from sklearn.ensemble import RandomForestRegressor\n",
    "\n",
    "from sentence_transformers import SentenceTransformer\n",
    "\n",
    "import torch\n",
    "from torch.utils.data import Dataset\n",
    "from torch.utils.data import DataLoader\n",
    "from torch.nn import Module\n",
    "from torch.nn import Embedding\n",
    "from torch.nn import MSELoss\n",
    "from torch.optim import Adam\n",
    "from torch.nn.functional import sigmoid\n",
    "from torch.nn import Linear\n",
    "from torch.nn import Dropout\n",
    "from torch.nn.functional import leaky_relu\n",
    "from torch.nn.functional import relu\n",
    "\n",
    "import torch_geometric\n",
    "import networkx as nx\n",
    "from torch_geometric.utils import to_networkx\n",
    "from torch_geometric.data import Data\n",
    "from torch_geometric.nn import GATConv\n",
    "from torch_geometric.nn import to_hetero"
   ]
  },
  {
   "cell_type": "code",
   "execution_count": 2,
   "metadata": {},
   "outputs": [
    {
     "name": "stdout",
     "output_type": "stream",
     "text": [
      "GPU is available and being used\n"
     ]
    }
   ],
   "source": [
    "if torch.cuda.is_available():\n",
    "    device = torch.device(\"cuda\")\n",
    "    print(\"GPU is available and being used\")\n",
    "else:\n",
    "    device = torch.device(\"cpu\")\n",
    "    print(\"GPU is not available, using CPU instead\")"
   ]
  },
  {
   "cell_type": "code",
   "execution_count": 3,
   "metadata": {},
   "outputs": [
    {
     "name": "stderr",
     "output_type": "stream",
     "text": [
      "C:\\Users\\yasus\\AppData\\Local\\Temp\\ipykernel_7700\\1815624546.py:1: DtypeWarning: Columns (3) have mixed types. Specify dtype option on import or set low_memory=False.\n",
      "  books_df = pd.read_csv(\"data/Books.csv\")\n"
     ]
    }
   ],
   "source": [
    "books_df = pd.read_csv(\"data/Books.csv\")\n",
    "users_df = pd.read_csv(\"data/Users.csv\")\n",
    "ratings_df = pd.read_csv(\"data/Ratings.csv\")"
   ]
  },
  {
   "cell_type": "code",
   "execution_count": 4,
   "metadata": {},
   "outputs": [
    {
     "name": "stdout",
     "output_type": "stream",
     "text": [
      "209538 078946697X\n",
      "220731 2070426769\n",
      "221678 0789466953\n"
     ]
    }
   ],
   "source": [
    "indices = []\n",
    "for i, year in enumerate(books_df[\"Year-Of-Publication\"]):\n",
    "    try:\n",
    "        year_num = float(year)\n",
    "    except:\n",
    "        indices.append(i)\n",
    "        print(i, books_df.loc[i, \"ISBN\"])"
   ]
  },
  {
   "cell_type": "code",
   "execution_count": 5,
   "metadata": {},
   "outputs": [],
   "source": [
    "books_df.drop([\"Image-URL-S\", \"Image-URL-M\", \"Image-URL-L\"], axis=1, inplace=True)"
   ]
  },
  {
   "cell_type": "code",
   "execution_count": 6,
   "metadata": {},
   "outputs": [],
   "source": [
    "for i in indices:\n",
    "    books_df.loc[i, \"Publisher\"] = books_df.loc[i, \"Year-Of-Publication\"]\n",
    "    books_df.loc[i, \"Year-Of-Publication\"] = books_df.loc[i, \"Book-Author\"]"
   ]
  },
  {
   "cell_type": "code",
   "execution_count": 7,
   "metadata": {},
   "outputs": [],
   "source": [
    "books_df.loc[209538, \"Book-Author\"] = books_df.loc[209538, \"Book-Title\"][81:-1]\n",
    "books_df.loc[209538, \"Book-Title\"] = books_df.loc[209538, \"Book-Title\"][:78]\n",
    "books_df.loc[220731, \"Book-Author\"] = books_df.loc[220731, \"Book-Title\"][40:-1]\n",
    "books_df.loc[220731, \"Book-Title\"] = books_df.loc[220731, \"Book-Title\"][:36]\n",
    "books_df.loc[221678, \"Book-Author\"] = books_df.loc[221678, \"Book-Title\"][93:-1]\n",
    "books_df.loc[221678, \"Book-Title\"] = books_df.loc[221678, \"Book-Title\"][:90]"
   ]
  },
  {
   "cell_type": "code",
   "execution_count": 8,
   "metadata": {},
   "outputs": [],
   "source": [
    "books_df[\"Year-Of-Publication\"] = books_df[\"Year-Of-Publication\"].astype(int)"
   ]
  },
  {
   "cell_type": "code",
   "execution_count": 9,
   "metadata": {},
   "outputs": [
    {
     "data": {
      "image/png": "[encoded data removed]",
      "text/plain": [
       "<Figure size 640x480 with 1 Axes>"
      ]
     },
     "metadata": {},
     "output_type": "display_data"
    }
   ],
   "source": [
    "sns.countplot(x=\"Book-Rating\", data=ratings_df)\n",
    "plt.show()"
   ]
  },
  {
   "cell_type": "code",
   "execution_count": 10,
   "metadata": {},
   "outputs": [
    {
     "data": {
      "text/plain": [
       "0.15394249334655324"
      ]
     },
     "execution_count": 10,
     "metadata": {},
     "output_type": "execute_result"
    }
   ],
   "source": [
    "(ratings_df[\"Book-Rating\"]==1).sum()/len(ratings_df) * 100"
   ]
  },
  {
   "cell_type": "code",
   "execution_count": 11,
   "metadata": {},
   "outputs": [],
   "source": [
    "ratings_df = ratings_df[ratings_df[\"Book-Rating\"]!=0]"
   ]
  },
  {
   "cell_type": "code",
   "execution_count": 12,
   "metadata": {},
   "outputs": [
    {
     "data": {
      "text/plain": [
       "ISBN\n",
       "000649840X    41\n",
       "0007110928    27\n",
       "0020199600    24\n",
       "0020442203    29\n",
       "002542730X    77\n",
       "              ..\n",
       "8806142100    23\n",
       "8807813025    21\n",
       "8826703132    21\n",
       "8845205118    21\n",
       "8873122933    27\n",
       "Name: Book-Rating, Length: 2034, dtype: int64"
      ]
     },
     "execution_count": 12,
     "metadata": {},
     "output_type": "execute_result"
    }
   ],
   "source": [
    "ratings_df.groupby(\"ISBN\").filter(lambda x: len(x) > 20).groupby(\"ISBN\").count()[\"Book-Rating\"]"
   ]
  },
  {
   "cell_type": "code",
   "execution_count": 13,
   "metadata": {},
   "outputs": [
    {
     "data": {
      "text/plain": [
       "User-ID\n",
       "183        91\n",
       "242        33\n",
       "254        58\n",
       "392        21\n",
       "507        37\n",
       "         ... \n",
       "278221     26\n",
       "278356     36\n",
       "278418    117\n",
       "278582     36\n",
       "278633     44\n",
       "Name: Book-Rating, Length: 3521, dtype: int64"
      ]
     },
     "execution_count": 13,
     "metadata": {},
     "output_type": "execute_result"
    }
   ],
   "source": [
    "ratings_df.groupby(\"User-ID\").filter(lambda x: len(x) > 20).groupby(\"User-ID\").count()[\"Book-Rating\"]"
   ]
  },
  {
   "cell_type": "code",
   "execution_count": 14,
   "metadata": {},
   "outputs": [],
   "source": [
    "picked_isbn = ratings_df.groupby(\"ISBN\").filter(lambda x: len(x) > 20).groupby(\"ISBN\").count().index.tolist()\n",
    "picked_userid = ratings_df.groupby(\"User-ID\").filter(lambda x: len(x) > 20).groupby(\"User-ID\").count().index.tolist()"
   ]
  },
  {
   "cell_type": "code",
   "execution_count": 15,
   "metadata": {},
   "outputs": [],
   "source": [
    "all_book_isbn = set(books_df[\"ISBN\"]).intersection(set(picked_isbn))\n",
    "all_user_id = set(users_df[\"User-ID\"]).intersection(set(picked_userid))\n",
    "ratings_df = ratings_df[ratings_df[\"ISBN\"].isin(all_book_isbn)]\n",
    "ratings_df = ratings_df[ratings_df[\"User-ID\"].isin(all_user_id)]\n",
    "books_df = books_df[books_df[\"ISBN\"].isin(all_book_isbn)]\n",
    "users_df = users_df[users_df[\"User-ID\"].isin(all_user_id)]"
   ]
  },
  {
   "cell_type": "code",
   "execution_count": 16,
   "metadata": {},
   "outputs": [
    {
     "data": {
      "text/plain": [
       "((1988, 2562), (1988, 1056), (1988, 261))"
      ]
     },
     "execution_count": 16,
     "metadata": {},
     "output_type": "execute_result"
    }
   ],
   "source": [
    "tfidf = TfidfVectorizer()\n",
    "cv = CountVectorizer()\n",
    "books_df[\"Book-Author\"].fillna(\"\", inplace=True)\n",
    "books_df[\"Publisher\"].fillna(\"\", inplace=True)\n",
    "title_matrix = tfidf.fit_transform(books_df[\"Book-Title\"])\n",
    "author_matrix = cv.fit_transform(books_df[\"Book-Author\"])\n",
    "publisher_matrix = cv.fit_transform(books_df[\"Publisher\"])\n",
    "title_matrix.shape, author_matrix.shape, publisher_matrix.shape"
   ]
  },
  {
   "cell_type": "code",
   "execution_count": 17,
   "metadata": {},
   "outputs": [
    {
     "data": {
      "image/png": "[encoded data removed]",
      "text/plain": [
       "<Figure size 1200x600 with 2 Axes>"
      ]
     },
     "metadata": {},
     "output_type": "display_data"
    }
   ],
   "source": [
    "fig, ax = plt.subplots(1, 2, figsize=(12, 6))\n",
    "sns.histplot(x=\"Age\", data=users_df, ax=ax[0], bins=50)\n",
    "cp = sns.countplot(x=\"Year-Of-Publication\", data=books_df, ax=ax[1])\n",
    "cp.set_xticklabels(cp.get_xticklabels(), rotation=90)\n",
    "plt.show()"
   ]
  },
  {
   "cell_type": "code",
   "execution_count": 18,
   "metadata": {},
   "outputs": [
    {
     "data": {
      "text/plain": [
       "0.8551307847082495"
      ]
     },
     "execution_count": 18,
     "metadata": {},
     "output_type": "execute_result"
    }
   ],
   "source": [
    "(books_df[\"Year-Of-Publication\"]==0).sum()/len(books_df) * 100"
   ]
  },
  {
   "cell_type": "code",
   "execution_count": 19,
   "metadata": {},
   "outputs": [],
   "source": [
    "books_df[\"Year-Of-Publication\"] = books_df[\"Year-Of-Publication\"]/books_df[\"Year-Of-Publication\"].max()"
   ]
  },
  {
   "cell_type": "code",
   "execution_count": 20,
   "metadata": {},
   "outputs": [
    {
     "data": {
      "text/plain": [
       "(3521, 2209)"
      ]
     },
     "execution_count": 20,
     "metadata": {},
     "output_type": "execute_result"
    }
   ],
   "source": [
    "cv = CountVectorizer()\n",
    "location_matrix = cv.fit_transform(users_df[\"Location\"])\n",
    "location_matrix.shape"
   ]
  },
  {
   "cell_type": "code",
   "execution_count": 21,
   "metadata": {},
   "outputs": [
    {
     "data": {
      "text/plain": [
       "22.209599545583643"
      ]
     },
     "execution_count": 21,
     "metadata": {},
     "output_type": "execute_result"
    }
   ],
   "source": [
    "users_df[\"Age\"].isna().sum()/len(users_df) * 100"
   ]
  },
  {
   "cell_type": "code",
   "execution_count": 22,
   "metadata": {},
   "outputs": [],
   "source": [
    "users_df[\"Age\"].fillna(0, inplace=True)\n",
    "users_df[\"Age\"] = users_df[\"Age\"]/users_df[\"Age\"].max()"
   ]
  },
  {
   "cell_type": "code",
   "execution_count": 23,
   "metadata": {},
   "outputs": [],
   "source": [
    "model = SentenceTransformer('sentence-transformers/distiluse-base-multilingual-cased-v2')"
   ]
  },
  {
   "cell_type": "code",
   "execution_count": 24,
   "metadata": {},
   "outputs": [],
   "source": [
    "books_df = books_df.sort_values(by=[\"ISBN\"]).reset_index(drop=True)\n",
    "mapping_isbn_2_id = {row[1][0]: row[0] for row in books_df.iterrows()}\n",
    "mapping_id_2_isbn = {row[0] : row[1][0] for row in books_df.iterrows()}\n",
    "\n",
    "users_df = users_df.sort_values(by=[\"User-ID\"]).reset_index(drop=True)\n",
    "mapping_uid_2_id = {row[1][0]: row[0] for row in users_df.iterrows()}\n",
    "mapping_id_2_uid = {row[0] : row[1][0] for row in users_df.iterrows()}"
   ]
  },
  {
   "cell_type": "code",
   "execution_count": 25,
   "metadata": {},
   "outputs": [],
   "source": [
    "book_embeddings = []\n",
    "for book in books_df.iterrows():\n",
    "    sentence = book[1][1] + \" \" + book[1][2] + \" \" + book[1][4]\n",
    "    book_embeddings.append(model.encode(sentence))\n",
    "\n",
    "books = np.concatenate([np.array(book_embeddings), books_df[\"Year-Of-Publication\"].to_numpy().reshape(-1, 1)], axis=1)\n",
    "\n",
    "user_embeddings = []\n",
    "for user in users_df.iterrows():\n",
    "    sentence = str(user[1][0]) + \" \" + user[1][1]\n",
    "    user_embeddings.append(model.encode(sentence))\n",
    "\n",
    "users = np.concatenate([np.array(user_embeddings), users_df[\"Age\"].to_numpy().reshape(-1, 1)], axis=1)"
   ]
  },
  {
   "cell_type": "code",
   "execution_count": 26,
   "metadata": {},
   "outputs": [],
   "source": [
    "book_f_similarity = cosine_similarity(books, books)\n",
    "user_f_similarity = cosine_similarity(users, users)"
   ]
  },
  {
   "cell_type": "code",
   "execution_count": 27,
   "metadata": {},
   "outputs": [],
   "source": [
    "ratings_train_df, ratings_test_df = train_test_split(ratings_df, test_size=0.3, random_state=168, stratify=ratings_df[\"Book-Rating\"])\n",
    "ratings_val_df, ratings_test_df = train_test_split(ratings_test_df, test_size=0.66, random_state=168, stratify=ratings_test_df[\"Book-Rating\"])"
   ]
  },
  {
   "cell_type": "code",
   "execution_count": 28,
   "metadata": {},
   "outputs": [
    {
     "data": {
      "text/plain": [
       "((31010, 3), (4518, 3), (8772, 3))"
      ]
     },
     "execution_count": 28,
     "metadata": {},
     "output_type": "execute_result"
    }
   ],
   "source": [
    "ratings_train_df.shape, ratings_val_df.shape, ratings_test_df.shape"
   ]
  },
  {
   "cell_type": "code",
   "execution_count": 29,
   "metadata": {},
   "outputs": [],
   "source": [
    "interaction_matrix = np.zeros((len(users_df), len(books_df)))\n",
    "r, c = [mapping_uid_2_id[user_id] for user_id in ratings_train_df[\"User-ID\"]], [mapping_isbn_2_id[isbn] for isbn in ratings_train_df[\"ISBN\"]]\n",
    "v = [score for score in ratings_train_df[\"Book-Rating\"]]\n",
    "interaction_matrix[r, c] = v"
   ]
  },
  {
   "cell_type": "code",
   "execution_count": 30,
   "metadata": {},
   "outputs": [],
   "source": [
    "def build_feature_matrices(dfs):\n",
    "    matrices = []\n",
    "    for df in dfs:\n",
    "        m = np.zeros((len(df), 513+513+1))\n",
    "        for i, r in enumerate(df.iterrows()):\n",
    "            m[i, :513] = users[mapping_uid_2_id[r[1][0]], :]\n",
    "            m[i, 513:1026] = books[mapping_isbn_2_id[r[1][1]], :]\n",
    "            m[i, 1026] = r[1][2]\n",
    "        matrices.append(m)\n",
    "    return matrices\n",
    "\n",
    "ratings_train, ratings_val, ratings_test = build_feature_matrices((ratings_train_df, ratings_val_df, ratings_test_df))"
   ]
  },
  {
   "cell_type": "code",
   "execution_count": 31,
   "metadata": {},
   "outputs": [],
   "source": [
    "def build_edge_indices(dfs):\n",
    "    sources, destinations, features = [], [], []\n",
    "    for df in dfs:\n",
    "        s, d, f = [], [], []\n",
    "        for r in df.iterrows():\n",
    "            uid, isbn, rating = r[1][0], r[1][1], r[1][2]\n",
    "            s.append(mapping_uid_2_id[uid])\n",
    "            d.append(mapping_isbn_2_id[isbn])\n",
    "            f.append(rating/10)\n",
    "        sources.append(s)\n",
    "        destinations.append(d)\n",
    "        features.append(f)\n",
    "    return sources, destinations, features\n",
    "\n",
    "sources, destinations, features = build_edge_indices((ratings_train_df, ratings_val_df, ratings_test_df))\n",
    "\n",
    "train_sources, train_destinations, train_features = sources[0], destinations[0], features[0]\n",
    "val_sources, val_destinations, val_features = sources[1], destinations[1], features[1]\n",
    "test_sources, test_destinations, test_features = sources[2], destinations[2], features[2]"
   ]
  },
  {
   "cell_type": "code",
   "execution_count": 32,
   "metadata": {},
   "outputs": [],
   "source": [
    "from torch_geometric.data import HeteroData\n",
    "\n",
    "graph_data = HeteroData()\n",
    "graph_data[\"user\"].x = torch.tensor(users, dtype=torch.float32)\n",
    "graph_data[\"book\"].x = torch.tensor(books, dtype=torch.float32)\n",
    "graph_data[\"user\", \"rates\", \"book\"].edge_index = torch.tensor(np.array([train_sources, train_destinations]), dtype=torch.long)\n",
    "graph_data[\"user\", \"rates\", \"book\"].edge_attr = torch.tensor(np.array(train_features), dtype=torch.long)\n",
    "graph_data[\"book\", \"rated_by\", \"user\"].edge_index = torch.tensor(np.array([train_destinations, train_sources]), dtype=torch.long)\n",
    "graph_data[\"book\", \"rated_by\", \"user\"].edge_attr = torch.tensor(np.array(train_features), dtype=torch.long)\n",
    "graph_data[\"user\", \"rates\", \"book\"].train_edge_index = torch.tensor(np.array([train_sources, train_destinations]), dtype=torch.long)\n",
    "graph_data[\"user\", \"rates\", \"book\"].val_edge_index = torch.tensor(np.array([val_sources, val_destinations]), dtype=torch.long)\n",
    "graph_data[\"user\", \"rates\", \"book\"].test_edge_index = torch.tensor(np.array([test_sources, test_destinations]), dtype=torch.long)\n",
    "graph_data[\"user\", \"rates\", \"book\"].train_ratings = torch.tensor(np.array(train_features), dtype=torch.float)\n",
    "graph_data[\"user\", \"rates\", \"book\"].val_ratings = torch.tensor(np.array(val_features), dtype=torch.float)\n",
    "graph_data[\"user\", \"rates\", \"book\"].test_ratings = torch.tensor(np.array(test_features), dtype=torch.float)"
   ]
  },
  {
   "cell_type": "code",
   "execution_count": 33,
   "metadata": {},
   "outputs": [],
   "source": [
    "nx_graph = nx.Graph()\n",
    "nx_graph.add_nodes_from(list(range(len(users))), bipartite=0)\n",
    "nx_graph.add_nodes_from(list(range(len(users), len(users)+len(books))), bipartite=1)\n",
    "nx_graph.add_edges_from(np.concatenate([np.array([train_sources + val_sources + test_sources]), np.array([train_destinations + val_destinations + test_destinations]) + len(users)], axis=0).T.tolist())\n",
    "nx_graph.add_edges_from(np.concatenate([np.array([train_destinations + val_destinations + test_destinations]) + len(users), np.array([train_sources + val_sources + test_sources])], axis=0).T.tolist())"
   ]
  },
  {
   "cell_type": "code",
   "execution_count": 34,
   "metadata": {},
   "outputs": [
    {
     "data": {
      "image/png": "[encoded data removed]",
      "text/plain": [
       "<Figure size 640x480 with 1 Axes>"
      ]
     },
     "metadata": {},
     "output_type": "display_data"
    }
   ],
   "source": [
    "sampled_nodes0 = random.sample(list(range(len(users))), 50)\n",
    "sampled_nodes1 = random.sample(list(range(len(users), len(users)+len(books))), 50)\n",
    "nx_sub_graph = nx.subgraph(nx_graph, sampled_nodes0 + sampled_nodes1)\n",
    "node_color = ['red' if nx_sub_graph.nodes[node]['bipartite'] == 0 else 'blue' for node in nx_sub_graph.nodes()]\n",
    "pos = nx.bipartite_layout(nx_sub_graph, sampled_nodes0)\n",
    "nx.draw(nx_sub_graph, pos, with_labels=False, node_color=node_color, node_size=10, edge_color=\"black\")\n",
    "red_patch = plt.Line2D([], [], color='red', marker='o', markersize=3, linestyle='', label='User')\n",
    "blue_patch = plt.Line2D([], [], color='blue', marker='o', markersize=3, linestyle='', label='Book')\n",
    "plt.legend(handles=[red_patch, blue_patch])\n",
    "plt.show()"
   ]
  },
  {
   "cell_type": "markdown",
   "metadata": {},
   "source": [
    "Item-Centered Content-Based Filtering"
   ]
  },
  {
   "cell_type": "code",
   "execution_count": 35,
   "metadata": {},
   "outputs": [],
   "source": [
    "def get_kusers_on_ufeatures(uid, k, sim_mat):\n",
    "    id = mapping_uid_2_id[uid]\n",
    "    ids = sim_mat[id, :].argsort()[-2:-(k+2):-1]\n",
    "    return [mapping_id_2_uid[i] for i in ids]\n",
    "\n",
    "def get_kbooks_on_bfeatures(isbn, k, sim_mat):\n",
    "    id = mapping_isbn_2_id[isbn]\n",
    "    ids = sim_mat[id, :].argsort()[-2:-(k+2):-1]\n",
    "    return [mapping_id_2_isbn[i] for i in ids]"
   ]
  },
  {
   "cell_type": "code",
   "execution_count": 36,
   "metadata": {},
   "outputs": [],
   "source": [
    "def score_by_user_sim(uid, isbn, user_sim, inter_mat, k):\n",
    "    id_u, id_b = mapping_uid_2_id[uid], mapping_isbn_2_id[isbn]\n",
    "    if inter_mat[id_u, id_b] != 0:\n",
    "        return inter_mat[id_u, id_b]\n",
    "    else:\n",
    "        idx = np.where(inter_mat[:, id_b] !=0)[0]\n",
    "        if len(idx) == 0:\n",
    "            return np.median(inter_mat[:, id_b])\n",
    "        else:\n",
    "            k = min(k, len(idx))\n",
    "            return np.mean(inter_mat[idx[user_sim[id_u, idx].argsort()[-1:-(k+1):-1]], id_b])"
   ]
  },
  {
   "cell_type": "code",
   "execution_count": 37,
   "metadata": {},
   "outputs": [
    {
     "name": "stdout",
     "output_type": "stream",
     "text": [
      "18 1.7372161680915736\n",
      "CPU times: total: 13.9 s\n",
      "Wall time: 14.1 s\n"
     ]
    }
   ],
   "source": [
    "%%time\n",
    "min_rmse, optim_k = math.inf, None\n",
    "for k in range(1, 21):\n",
    "    item_cbf_val_result = np.array([score_by_user_sim(r[1][0], r[1][1], user_f_similarity, interaction_matrix, k) for r in ratings_val_df.iterrows()])\n",
    "    item_cbf_val_rmse = ((ratings_val_df[\"Book-Rating\"] - item_cbf_val_result)**2).mean() ** 0.5\n",
    "    if item_cbf_val_rmse < min_rmse:\n",
    "        min_rmse = item_cbf_val_rmse\n",
    "        optim_k = k\n",
    "\n",
    "print(optim_k, min_rmse)"
   ]
  },
  {
   "cell_type": "code",
   "execution_count": 38,
   "metadata": {},
   "outputs": [
    {
     "name": "stdout",
     "output_type": "stream",
     "text": [
      "CPU times: total: 1.36 s\n",
      "Wall time: 1.37 s\n"
     ]
    },
    {
     "data": {
      "text/plain": [
       "1.7355191964381766"
      ]
     },
     "execution_count": 38,
     "metadata": {},
     "output_type": "execute_result"
    }
   ],
   "source": [
    "%%time\n",
    "item_cbf_test_result = np.array([score_by_user_sim(r[1][0], r[1][1], user_f_similarity, interaction_matrix, 18) for r in ratings_test_df.iterrows()])\n",
    "item_cbf_test_rmse = ((ratings_test_df[\"Book-Rating\"] - item_cbf_test_result)**2).mean() ** 0.5\n",
    "item_cbf_test_rmse"
   ]
  },
  {
   "cell_type": "markdown",
   "metadata": {},
   "source": [
    "User-Centered Content-Based Filtering"
   ]
  },
  {
   "cell_type": "code",
   "execution_count": 39,
   "metadata": {},
   "outputs": [],
   "source": [
    "def score_by_book_sim(uid, isbn, book_sim, inter_mat, k):\n",
    "    id_u, id_b = mapping_uid_2_id[uid], mapping_isbn_2_id[isbn]\n",
    "    if inter_mat[id_u, id_b] != 0:\n",
    "        return inter_mat[id_u, id_b]\n",
    "    else:\n",
    "        idx = np.where(inter_mat[id_u, :] !=0)[0]\n",
    "        if len(idx) == 0:\n",
    "            return np.median(inter_mat[id_u, :])\n",
    "        else:\n",
    "            k = min(k, len(idx))\n",
    "            return np.mean(inter_mat[id_u, idx[book_sim[id_b, idx].argsort()[-1:-(k+1):-1]]])"
   ]
  },
  {
   "cell_type": "code",
   "execution_count": 40,
   "metadata": {},
   "outputs": [
    {
     "name": "stdout",
     "output_type": "stream",
     "text": [
      "19 1.814410852358627\n",
      "CPU times: total: 11.5 s\n",
      "Wall time: 11.6 s\n"
     ]
    }
   ],
   "source": [
    "%%time\n",
    "min_rmse, optim_k = math.inf, None\n",
    "for k in range(1, 21):\n",
    "    user_cbf_val_result = np.array([score_by_book_sim(r[1][0], r[1][1], book_f_similarity, interaction_matrix, k) for r in ratings_val_df.iterrows()])\n",
    "    user_cbf_val_rmse = ((ratings_val_df[\"Book-Rating\"] - user_cbf_val_result)**2).mean() ** 0.5\n",
    "    if user_cbf_val_rmse < min_rmse:\n",
    "        min_rmse = user_cbf_val_rmse\n",
    "        optim_k = k\n",
    "\n",
    "print(optim_k, min_rmse)"
   ]
  },
  {
   "cell_type": "code",
   "execution_count": 41,
   "metadata": {},
   "outputs": [
    {
     "name": "stdout",
     "output_type": "stream",
     "text": [
      "CPU times: total: 1.11 s\n",
      "Wall time: 1.12 s\n"
     ]
    },
    {
     "data": {
      "text/plain": [
       "1.7473476001942798"
      ]
     },
     "execution_count": 41,
     "metadata": {},
     "output_type": "execute_result"
    }
   ],
   "source": [
    "%%time\n",
    "user_cbf_test_result = np.array([score_by_book_sim(r[1][0], r[1][1], book_f_similarity, interaction_matrix, 19) for r in ratings_test_df.iterrows()])\n",
    "user_cbf_test_rmse = ((ratings_test_df[\"Book-Rating\"] - user_cbf_test_result)**2).mean() ** 0.5\n",
    "user_cbf_test_rmse"
   ]
  },
  {
   "cell_type": "code",
   "execution_count": 42,
   "metadata": {},
   "outputs": [],
   "source": [
    "book_cf_similarity = cosine_similarity(interaction_matrix.T, interaction_matrix.T)\n",
    "user_cf_similarity = cosine_similarity(interaction_matrix, interaction_matrix)"
   ]
  },
  {
   "cell_type": "markdown",
   "metadata": {},
   "source": [
    "User-User Collaborative Filtering"
   ]
  },
  {
   "cell_type": "code",
   "execution_count": 43,
   "metadata": {},
   "outputs": [
    {
     "name": "stdout",
     "output_type": "stream",
     "text": [
      "20 1.73231368194287\n",
      "CPU times: total: 15.3 s\n",
      "Wall time: 15.4 s\n"
     ]
    }
   ],
   "source": [
    "%%time\n",
    "min_rmse, optim_k = math.inf, None\n",
    "for k in range(1, 21):\n",
    "    user_user_cf_val_result = np.array([score_by_user_sim(r[1][0], r[1][1], user_cf_similarity, interaction_matrix, k) for r in ratings_val_df.iterrows()])\n",
    "    user_user_cf_val_rmse = ((ratings_val_df[\"Book-Rating\"] - user_user_cf_val_result)**2).mean() ** 0.5\n",
    "    if user_user_cf_val_rmse < min_rmse:\n",
    "        min_rmse = user_user_cf_val_rmse\n",
    "        optim_k = k\n",
    "\n",
    "print(optim_k, min_rmse)"
   ]
  },
  {
   "cell_type": "code",
   "execution_count": 44,
   "metadata": {},
   "outputs": [
    {
     "name": "stdout",
     "output_type": "stream",
     "text": [
      "CPU times: total: 1.53 s\n",
      "Wall time: 1.55 s\n"
     ]
    },
    {
     "data": {
      "text/plain": [
       "1.7308157043447534"
      ]
     },
     "execution_count": 44,
     "metadata": {},
     "output_type": "execute_result"
    }
   ],
   "source": [
    "%%time\n",
    "user_user_cf_test_result = np.array([score_by_user_sim(r[1][0], r[1][1], user_cf_similarity, interaction_matrix, 20) for r in ratings_test_df.iterrows()])\n",
    "user_user_cf_test_rmse = ((ratings_test_df[\"Book-Rating\"] - user_user_cf_test_result)**2).mean() ** 0.5\n",
    "user_user_cf_test_rmse"
   ]
  },
  {
   "cell_type": "markdown",
   "metadata": {},
   "source": [
    "Item-Item Collaborative Filtering"
   ]
  },
  {
   "cell_type": "code",
   "execution_count": 45,
   "metadata": {},
   "outputs": [
    {
     "name": "stdout",
     "output_type": "stream",
     "text": [
      "20 1.819794930530574\n",
      "CPU times: total: 11.7 s\n",
      "Wall time: 11.8 s\n"
     ]
    }
   ],
   "source": [
    "%%time\n",
    "min_rmse, optim_k = math.inf, None\n",
    "for k in range(1, 21):\n",
    "    item_item_cf_val_result = np.array([score_by_book_sim(r[1][0], r[1][1], book_cf_similarity, interaction_matrix, k) for r in ratings_val_df.iterrows()])\n",
    "    item_item_cf_val_rmse = ((ratings_val_df[\"Book-Rating\"] - item_item_cf_val_result)**2).mean() ** 0.5\n",
    "    if item_item_cf_val_rmse < min_rmse:\n",
    "        min_rmse = item_item_cf_val_rmse\n",
    "        optim_k = k\n",
    "\n",
    "print(optim_k, min_rmse)"
   ]
  },
  {
   "cell_type": "code",
   "execution_count": 46,
   "metadata": {},
   "outputs": [
    {
     "name": "stdout",
     "output_type": "stream",
     "text": [
      "CPU times: total: 1.06 s\n",
      "Wall time: 1.13 s\n"
     ]
    },
    {
     "data": {
      "text/plain": [
       "1.7457498884960554"
      ]
     },
     "execution_count": 46,
     "metadata": {},
     "output_type": "execute_result"
    }
   ],
   "source": [
    "%%time\n",
    "item_item_cf_test_result = np.array([score_by_book_sim(r[1][0], r[1][1], book_cf_similarity, interaction_matrix, 20) for r in ratings_test_df.iterrows()])\n",
    "item_item_cf_test_rmse = ((ratings_test_df[\"Book-Rating\"] - item_item_cf_test_result)**2).mean() ** 0.5\n",
    "item_item_cf_test_rmse"
   ]
  },
  {
   "cell_type": "code",
   "execution_count": 47,
   "metadata": {},
   "outputs": [
    {
     "data": {
      "text/plain": [
       "1.7466563513271292"
      ]
     },
     "execution_count": 47,
     "metadata": {},
     "output_type": "execute_result"
    }
   ],
   "source": [
    "ratings_test_df[\"Book-Rating\"].std()"
   ]
  },
  {
   "cell_type": "markdown",
   "metadata": {},
   "source": [
    "Matrix Factorization Collaborative Filtering"
   ]
  },
  {
   "cell_type": "code",
   "execution_count": 48,
   "metadata": {},
   "outputs": [],
   "source": [
    "class RatingDatasetMF(Dataset):\n",
    "    def __init__(self, ratings_df, mapping_uid=mapping_uid_2_id, mapping_isbn=mapping_isbn_2_id):\n",
    "        self.ratings_df = ratings_df\n",
    "        self.mapping_uid = mapping_uid\n",
    "        self.mapping_isbn = mapping_isbn\n",
    "    \n",
    "    def __len__(self):\n",
    "        return len(self.ratings_df)\n",
    "\n",
    "    def __getitem__(self, idx):\n",
    "        id_b, id_u = self.mapping_isbn[self.ratings_df.iloc[idx, 1]], self.mapping_uid[self.ratings_df.iloc[idx, 0]]\n",
    "        return [id_u, id_b], self.ratings_df.iloc[idx, 2]/10"
   ]
  },
  {
   "cell_type": "code",
   "execution_count": 49,
   "metadata": {},
   "outputs": [],
   "source": [
    "class MatrixFactorizer(Module):\n",
    "    def __init__(self, n_users, n_books, n_latents):\n",
    "        super().__init__()\n",
    "        self.user_latents = Embedding(num_embeddings=n_users, embedding_dim=n_latents)\n",
    "        self.book_latents = Embedding(num_embeddings=n_books, embedding_dim=n_latents)\n",
    "        self.user_latents.weight.data.uniform_(0, 0.3)\n",
    "        self.book_latents.weight.data.uniform_(0, 0.3)\n",
    "\n",
    "    def forward(self, users, books):\n",
    "        return sigmoid((self.user_latents(users) * self.book_latents(books)).sum(dim=1))"
   ]
  },
  {
   "cell_type": "code",
   "execution_count": 50,
   "metadata": {},
   "outputs": [],
   "source": [
    "def train_matrix_factorizer(model, dl_train, dl_val, optimizer, criterion = MSELoss(), n_epochs = 10):\n",
    "    epoch_train_loss, epoch_val_loss = [], []\n",
    "    for i in range(1, n_epochs+1):\n",
    "        train_loss, val_loss = [], []\n",
    "        model.train()\n",
    "        for (u, b), r in dl_train:\n",
    "            u, b, r = u.to(device), b.to(device), r.float().to(device)\n",
    "            optim.zero_grad()\n",
    "            out = model(u, b)\n",
    "            loss = criterion(out, r)\n",
    "            train_loss.append(10*loss.item()**0.5)\n",
    "            loss.backward()\n",
    "            optim.step()\n",
    "\n",
    "        model.eval()\n",
    "        for (u, b), r in dl_val:\n",
    "            u, b, r = u.to(device), b.to(device), r.to(device)\n",
    "            out = model(u, b)\n",
    "            loss = criterion(out, r)\n",
    "            val_loss.append(10*loss.item()**0.5)\n",
    "\n",
    "        epoch_train_loss.append(np.mean(train_loss))\n",
    "        epoch_val_loss.append(np.mean(val_loss))\n",
    "        if i == 1 or i % 2 == 0:\n",
    "            print(f'Epoch: {i}, Train Loss: {epoch_train_loss[-1]}, Validation Loss: {epoch_val_loss[-1]}')\n",
    "\n",
    "    return epoch_train_loss, epoch_val_loss"
   ]
  },
  {
   "cell_type": "code",
   "execution_count": 70,
   "metadata": {},
   "outputs": [
    {
     "name": "stdout",
     "output_type": "stream",
     "text": [
      "Epoch: 1, Train Loss: 2.0853570695216743, Validation Loss: 2.042345319673342\n",
      "Epoch: 2, Train Loss: 1.9853717173885534, Validation Loss: 1.9515026105838824\n",
      "Epoch: 4, Train Loss: 1.8109780910740891, Validation Loss: 1.8198588792432517\n",
      "Epoch: 6, Train Loss: 1.6784045534287504, Validation Loss: 1.7239212036702622\n",
      "Epoch: 8, Train Loss: 1.5823800791891376, Validation Loss: 1.6497826920338403\n",
      "Epoch: 10, Train Loss: 1.5126897186117416, Validation Loss: 1.6072152063541159\n",
      "Epoch: 12, Train Loss: 1.4580635885551236, Validation Loss: 1.5790824349756218\n",
      "Epoch: 14, Train Loss: 1.4194764285674943, Validation Loss: 1.561882454753377\n",
      "Epoch: 16, Train Loss: 1.3883383906291156, Validation Loss: 1.5537162121896668\n",
      "Epoch: 18, Train Loss: 1.3629383464691178, Validation Loss: 1.5345290254248931\n",
      "Epoch: 20, Train Loss: 1.3420333044546033, Validation Loss: 1.5300108789877325\n",
      "CPU times: total: 18.6 s\n",
      "Wall time: 1min 43s\n"
     ]
    }
   ],
   "source": [
    "%%time\n",
    "lr = 0.0001\n",
    "n_latents = 32\n",
    "N_EPOCHS = 20\n",
    "mf = MatrixFactorizer(len(users), len(books), n_latents)\n",
    "mf.to(device)\n",
    "optim = Adam(mf.parameters(), lr=lr)\n",
    "dl_train = DataLoader(RatingDatasetMF(ratings_train_df), 32, shuffle=True)\n",
    "dl_val = DataLoader(RatingDatasetMF(ratings_val_df), 32, shuffle=True)\n",
    "\n",
    "training_loss, val_loss = train_matrix_factorizer(mf, dl_train, dl_val, optim, MSELoss(), N_EPOCHS)"
   ]
  },
  {
   "cell_type": "code",
   "execution_count": 71,
   "metadata": {},
   "outputs": [],
   "source": [
    "def plot_loss_and_acc(training_loss, val_loss, offset = 0):\n",
    "    fig, ax = plt.subplots(1, 1, figsize = (8, 6))\n",
    "    ax.plot(range(offset+1, len(training_loss)+1), training_loss[offset:], '-', linewidth=0.5, label=\"training\")\n",
    "    ax.plot(range(offset+1, len(val_loss)+1), val_loss[offset:], '-', linewidth=0.5, label=\"validation\")\n",
    "    ax.legend()\n",
    "    ax.set_xlabel(\"epoch\")\n",
    "    ax.set_ylabel(\"loss / MSE\")"
   ]
  },
  {
   "cell_type": "code",
   "execution_count": 52,
   "metadata": {},
   "outputs": [
    {
     "name": "stdout",
     "output_type": "stream",
     "text": [
      "CPU times: total: 562 ms\n",
      "Wall time: 703 ms\n"
     ]
    },
    {
     "data": {
      "text/plain": [
       "1.551052157661241"
      ]
     },
     "execution_count": 52,
     "metadata": {},
     "output_type": "execute_result"
    }
   ],
   "source": [
    "%%time\n",
    "dl_test = DataLoader(RatingDatasetMF(ratings_test_df), len(ratings_test_df))\n",
    "(u, b), r = next(iter(dl_test))\n",
    "u, b, r = u.to(device), b.to(device), r.to(device)\n",
    "mf.eval()\n",
    "mf_cf_rmse = ((((mf(u,b) * 10) - (r * 10))**2).mean() ** 0.5).item()\n",
    "mf_cf_rmse"
   ]
  },
  {
   "cell_type": "markdown",
   "metadata": {},
   "source": [
    "Random Forest Regressor"
   ]
  },
  {
   "cell_type": "code",
   "execution_count": 53,
   "metadata": {},
   "outputs": [],
   "source": [
    "rfr = RandomForestRegressor(max_depth=20, n_estimators=50, n_jobs=-1)"
   ]
  },
  {
   "cell_type": "code",
   "execution_count": 54,
   "metadata": {},
   "outputs": [
    {
     "name": "stdout",
     "output_type": "stream",
     "text": [
      "CPU times: total: 50min 20s\n",
      "Wall time: 3min 37s\n"
     ]
    },
    {
     "data": {
      "text/html": [
       "<style>#sk-container-id-1 {color: black;}#sk-container-id-1 pre{padding: 0;}#sk-container-id-1 div.sk-toggleable {background-color: white;}#sk-container-id-1 label.sk-toggleable__label {cursor: pointer;display: block;width: 100%;margin-bottom: 0;padding: 0.3em;box-sizing: border-box;text-align: center;}#sk-container-id-1 label.sk-toggleable__label-arrow:before {content: \"▸\";float: left;margin-right: 0.25em;color: #696969;}#sk-container-id-1 label.sk-toggleable__label-arrow:hover:before {color: black;}#sk-container-id-1 div.sk-estimator:hover label.sk-toggleable__label-arrow:before {color: black;}#sk-container-id-1 div.sk-toggleable__content {max-height: 0;max-width: 0;overflow: hidden;text-align: left;background-color: #f0f8ff;}#sk-container-id-1 div.sk-toggleable__content pre {margin: 0.2em;color: black;border-radius: 0.25em;background-color: #f0f8ff;}#sk-container-id-1 input.sk-toggleable__control:checked~div.sk-toggleable__content {max-height: 200px;max-width: 100%;overflow: auto;}#sk-container-id-1 input.sk-toggleable__control:checked~label.sk-toggleable__label-arrow:before {content: \"▾\";}#sk-container-id-1 div.sk-estimator input.sk-toggleable__control:checked~label.sk-toggleable__label {background-color: #d4ebff;}#sk-container-id-1 div.sk-label input.sk-toggleable__control:checked~label.sk-toggleable__label {background-color: #d4ebff;}#sk-container-id-1 input.sk-hidden--visually {border: 0;clip: rect(1px 1px 1px 1px);clip: rect(1px, 1px, 1px, 1px);height: 1px;margin: -1px;overflow: hidden;padding: 0;position: absolute;width: 1px;}#sk-container-id-1 div.sk-estimator {font-family: monospace;background-color: #f0f8ff;border: 1px dotted black;border-radius: 0.25em;box-sizing: border-box;margin-bottom: 0.5em;}#sk-container-id-1 div.sk-estimator:hover {background-color: #d4ebff;}#sk-container-id-1 div.sk-parallel-item::after {content: \"\";width: 100%;border-bottom: 1px solid gray;flex-grow: 1;}#sk-container-id-1 div.sk-label:hover label.sk-toggleable__label {background-color: #d4ebff;}#sk-container-id-1 div.sk-serial::before {content: \"\";position: absolute;border-left: 1px solid gray;box-sizing: border-box;top: 0;bottom: 0;left: 50%;z-index: 0;}#sk-container-id-1 div.sk-serial {display: flex;flex-direction: column;align-items: center;background-color: white;padding-right: 0.2em;padding-left: 0.2em;position: relative;}#sk-container-id-1 div.sk-item {position: relative;z-index: 1;}#sk-container-id-1 div.sk-parallel {display: flex;align-items: stretch;justify-content: center;background-color: white;position: relative;}#sk-container-id-1 div.sk-item::before, #sk-container-id-1 div.sk-parallel-item::before {content: \"\";position: absolute;border-left: 1px solid gray;box-sizing: border-box;top: 0;bottom: 0;left: 50%;z-index: -1;}#sk-container-id-1 div.sk-parallel-item {display: flex;flex-direction: column;z-index: 1;position: relative;background-color: white;}#sk-container-id-1 div.sk-parallel-item:first-child::after {align-self: flex-end;width: 50%;}#sk-container-id-1 div.sk-parallel-item:last-child::after {align-self: flex-start;width: 50%;}#sk-container-id-1 div.sk-parallel-item:only-child::after {width: 0;}#sk-container-id-1 div.sk-dashed-wrapped {border: 1px dashed gray;margin: 0 0.4em 0.5em 0.4em;box-sizing: border-box;padding-bottom: 0.4em;background-color: white;}#sk-container-id-1 div.sk-label label {font-family: monospace;font-weight: bold;display: inline-block;line-height: 1.2em;}#sk-container-id-1 div.sk-label-container {text-align: center;}#sk-container-id-1 div.sk-container {/* jupyter's `normalize.less` sets `[hidden] { display: none; }` but bootstrap.min.css set `[hidden] { display: none !important; }` so we also need the `!important` here to be able to override the default hidden behavior on the sphinx rendered scikit-learn.org. See: https://github.com/scikit-learn/scikit-learn/issues/21755 */display: inline-block !important;position: relative;}#sk-container-id-1 div.sk-text-repr-fallback {display: none;}</style><div id=\"sk-container-id-1\" class=\"sk-top-container\"><div class=\"sk-text-repr-fallback\"><pre>RandomForestRegressor(max_depth=20, n_estimators=50, n_jobs=-1)</pre><b>In a Jupyter environment, please rerun this cell to show the HTML representation or trust the notebook. <br />On GitHub, the HTML representation is unable to render, please try loading this page with nbviewer.org.</b></div><div class=\"sk-container\" hidden><div class=\"sk-item\"><div class=\"sk-estimator sk-toggleable\"><input class=\"sk-toggleable__control sk-hidden--visually\" id=\"sk-estimator-id-1\" type=\"checkbox\" checked><label for=\"sk-estimator-id-1\" class=\"sk-toggleable__label sk-toggleable__label-arrow\">RandomForestRegressor</label><div class=\"sk-toggleable__content\"><pre>RandomForestRegressor(max_depth=20, n_estimators=50, n_jobs=-1)</pre></div></div></div></div></div>"
      ],
      "text/plain": [
       "RandomForestRegressor(max_depth=20, n_estimators=50, n_jobs=-1)"
      ]
     },
     "execution_count": 54,
     "metadata": {},
     "output_type": "execute_result"
    }
   ],
   "source": [
    "%%time\n",
    "rfr.fit(ratings_train[:, :-1], ratings_train[:, -1])"
   ]
  },
  {
   "cell_type": "code",
   "execution_count": 55,
   "metadata": {},
   "outputs": [
    {
     "name": "stdout",
     "output_type": "stream",
     "text": [
      "CPU times: total: 15.6 ms\n",
      "Wall time: 63.3 ms\n"
     ]
    },
    {
     "data": {
      "text/plain": [
       "1.5648978567434266"
      ]
     },
     "execution_count": 55,
     "metadata": {},
     "output_type": "execute_result"
    }
   ],
   "source": [
    "%%time\n",
    "rfr_rmse = ((rfr.predict(ratings_test[:, :-1]) - ratings_test[:, -1])**2).mean() ** 0.5\n",
    "rfr_rmse"
   ]
  },
  {
   "cell_type": "markdown",
   "metadata": {},
   "source": [
    "Multiple Layer Perceptron"
   ]
  },
  {
   "cell_type": "code",
   "execution_count": 56,
   "metadata": {},
   "outputs": [],
   "source": [
    "class RatingDatasetMLP(Dataset):\n",
    "    def __init__(self, ratings):\n",
    "        self.ratings = ratings\n",
    "    \n",
    "    def __len__(self):\n",
    "        return len(self.ratings)\n",
    "\n",
    "    def __getitem__(self, idx):\n",
    "        return self.ratings[idx, :-1], self.ratings[idx, -1]/10"
   ]
  },
  {
   "cell_type": "code",
   "execution_count": 57,
   "metadata": {},
   "outputs": [],
   "source": [
    "class RecommenderMLP(Module):\n",
    "    def __init__(self):\n",
    "        super().__init__()\n",
    "        self.linear1 = Linear(1026, 1024)\n",
    "        self.dropout1 = Dropout(0.7)\n",
    "        self.linear2 = Linear(1024, 128)       \n",
    "        self.linear3 = Linear(128, 1)       \n",
    "\n",
    "    def forward(self, x):\n",
    "        out = leaky_relu(self.dropout1(self.linear1(x)))\n",
    "        out = leaky_relu(self.linear2(out))\n",
    "        out = sigmoid(self.linear3(out))\n",
    "        return out"
   ]
  },
  {
   "cell_type": "code",
   "execution_count": 58,
   "metadata": {},
   "outputs": [],
   "source": [
    "def train_recommender_mlp(model, dl_train, dl_val, optimizer, criterion = MSELoss(), n_epochs = 10):\n",
    "    epoch_train_loss, epoch_val_loss = [], []\n",
    "    for i in range(1, N_EPOCHS+1):\n",
    "        train_loss, val_loss = [], []\n",
    "        model.train()\n",
    "        for x, y in dl_train:\n",
    "            x, y = x.float().to(device), y.float().to(device)\n",
    "            optim.zero_grad()\n",
    "            out = model(x).squeeze()\n",
    "            loss = criterion(out, y)\n",
    "            train_loss.append(10*loss.item()**0.5)\n",
    "            loss.backward()\n",
    "            optim.step()\n",
    "\n",
    "        model.eval()\n",
    "        with torch.no_grad():\n",
    "            for x, y in dl_val:\n",
    "                x, y = x.float().to(device), y.float().to(device)\n",
    "                out = model(x).squeeze()\n",
    "                loss = criterion(out, y)\n",
    "                val_loss.append(10*loss.item()**0.5)\n",
    "\n",
    "        epoch_train_loss.append(np.mean(train_loss))\n",
    "        epoch_val_loss.append(np.mean(val_loss))\n",
    "        print(f'Epoch: {i}, Train Loss: {epoch_train_loss[-1]}, Validation Loss: {epoch_val_loss[-1]}')\n",
    "\n",
    "    return epoch_train_loss, epoch_val_loss"
   ]
  },
  {
   "cell_type": "code",
   "execution_count": 59,
   "metadata": {},
   "outputs": [
    {
     "name": "stdout",
     "output_type": "stream",
     "text": [
      "Epoch: 1, Train Loss: 1.7422901962262909, Validation Loss: 1.6767415112572852\n",
      "Epoch: 2, Train Loss: 1.6774666815204957, Validation Loss: 1.6699144048580687\n",
      "Epoch: 3, Train Loss: 1.6653862820571976, Validation Loss: 1.6677685785853922\n",
      "Epoch: 4, Train Loss: 1.6564789064418668, Validation Loss: 1.673283361441775\n",
      "Epoch: 5, Train Loss: 1.6480798999650503, Validation Loss: 1.6581073217612001\n",
      "Epoch: 6, Train Loss: 1.6420905050838694, Validation Loss: 1.661929618597689\n",
      "Epoch: 7, Train Loss: 1.6328368346243975, Validation Loss: 1.6489452049520663\n",
      "Epoch: 8, Train Loss: 1.6257679436048522, Validation Loss: 1.6469726456769773\n",
      "Epoch: 9, Train Loss: 1.6130131653939266, Validation Loss: 1.6341361288518714\n",
      "Epoch: 10, Train Loss: 1.6033050219468727, Validation Loss: 1.639919340715519\n",
      "Epoch: 11, Train Loss: 1.5918411401442385, Validation Loss: 1.6249782426163533\n",
      "Epoch: 12, Train Loss: 1.5825992169452698, Validation Loss: 1.6140584158660165\n",
      "Epoch: 13, Train Loss: 1.5663581940077813, Validation Loss: 1.6112497196314406\n",
      "Epoch: 14, Train Loss: 1.5559089219067423, Validation Loss: 1.60387068176473\n",
      "Epoch: 15, Train Loss: 1.5451171049919008, Validation Loss: 1.6101421211148463\n",
      "Epoch: 16, Train Loss: 1.5339461569445578, Validation Loss: 1.6008981078418956\n",
      "Epoch: 17, Train Loss: 1.527220136752215, Validation Loss: 1.5962270626440498\n",
      "Epoch: 18, Train Loss: 1.5149439313830129, Validation Loss: 1.595041923967757\n",
      "Epoch: 19, Train Loss: 1.4996465783179809, Validation Loss: 1.591194428746966\n",
      "Epoch: 20, Train Loss: 1.4908145026314334, Validation Loss: 1.5881709296336448\n",
      "Epoch: 21, Train Loss: 1.4819156407051095, Validation Loss: 1.5758983849418253\n",
      "Epoch: 22, Train Loss: 1.4697661439546343, Validation Loss: 1.5825378616450154\n",
      "Epoch: 23, Train Loss: 1.4621002007181974, Validation Loss: 1.5778739254911187\n",
      "Epoch: 24, Train Loss: 1.4523579283434354, Validation Loss: 1.5713633990136675\n",
      "Epoch: 25, Train Loss: 1.4405697785489582, Validation Loss: 1.5790811809905503\n",
      "Epoch: 26, Train Loss: 1.4314560500499396, Validation Loss: 1.5674198501835206\n",
      "Epoch: 27, Train Loss: 1.4218798803717445, Validation Loss: 1.5736522278411145\n",
      "Epoch: 28, Train Loss: 1.4130373714219102, Validation Loss: 1.5800379565027811\n",
      "CPU times: total: 17.9 s\n",
      "Wall time: 2min 8s\n"
     ]
    }
   ],
   "source": [
    "%%time\n",
    "lr = 0.0001\n",
    "N_EPOCHS = 28\n",
    "\n",
    "mlp = RecommenderMLP()\n",
    "mlp.to(device)\n",
    "optim = Adam(mlp.parameters(), lr=lr)\n",
    "dl_train = DataLoader(RatingDatasetMLP(ratings_train), 16, shuffle=True)\n",
    "dl_val = DataLoader(RatingDatasetMLP(ratings_val), 16, shuffle=True)\n",
    "\n",
    "_, _ = train_recommender_mlp(mlp, dl_train, dl_val, optim, MSELoss(), N_EPOCHS)"
   ]
  },
  {
   "cell_type": "code",
   "execution_count": 60,
   "metadata": {},
   "outputs": [
    {
     "name": "stdout",
     "output_type": "stream",
     "text": [
      "1.629041314125061\n",
      "CPU times: total: 125 ms\n",
      "Wall time: 141 ms\n"
     ]
    }
   ],
   "source": [
    "%%time\n",
    "dl_test = DataLoader(RatingDatasetMLP(ratings_test), 8772)\n",
    "x, y = next(iter(dl_test))\n",
    "x, y = x.float().to(device), y.float().to(device)\n",
    "mlp.eval()\n",
    "with torch.no_grad():\n",
    "    mlp_rmse = ((((mlp(x).squeeze() * 10) - (y * 10))**2).mean() ** 0.5).item()\n",
    "    print(mlp_rmse)"
   ]
  },
  {
   "cell_type": "code",
   "execution_count": 61,
   "metadata": {},
   "outputs": [
    {
     "data": {
      "text/plain": [
       "RecommenderMLP(\n",
       "  (linear1): Linear(in_features=1026, out_features=1024, bias=True)\n",
       "  (dropout1): Dropout(p=0.7, inplace=False)\n",
       "  (linear2): Linear(in_features=1024, out_features=128, bias=True)\n",
       "  (linear3): Linear(in_features=128, out_features=1, bias=True)\n",
       ")"
      ]
     },
     "execution_count": 61,
     "metadata": {},
     "output_type": "execute_result"
    }
   ],
   "source": [
    "mlp"
   ]
  },
  {
   "cell_type": "markdown",
   "metadata": {},
   "source": [
    "GAT"
   ]
  },
  {
   "cell_type": "code",
   "execution_count": 62,
   "metadata": {},
   "outputs": [],
   "source": [
    "from torch_geometric.nn import HANConv\n",
    "\n",
    "class HANConvRecommender(torch.nn.Module):\n",
    "    def __init__(self, graph_data):\n",
    "        super().__init__()\n",
    "        self.han = HANConv(in_channels=-1, out_channels=512, heads=1, dropout=0.3, metadata=graph_data.metadata())\n",
    "        self.linear1 = Linear(512, 32)\n",
    "        self.linear2 = Linear(512, 32)\n",
    "\n",
    "    def forward(self, x_dict, edge_index_dict):\n",
    "        h = self.han(x_dict, edge_index_dict)\n",
    "        u = self.linear1(h[\"user\"]).sigmoid()\n",
    "        b = self.linear2(h[\"book\"]).sigmoid()\n",
    "        return u, b"
   ]
  },
  {
   "cell_type": "code",
   "execution_count": 63,
   "metadata": {},
   "outputs": [],
   "source": [
    "def train_recommender_han(model, graph_data, optimizer, criterion = MSELoss(), n_epochs = 10):\n",
    "    epoch_train_loss, epoch_val_loss = [], []\n",
    "    for i in range(1, n_epochs+1):\n",
    "        model.train()\n",
    "        optimizer.zero_grad()\n",
    "        users_latent, books_latent = model(graph_data.x_dict, graph_data.edge_index_dict)\n",
    "        out = (users_latent[graph_data[\"user\", \"rates\", \"book\"][\"train_edge_index\"][0]] * books_latent[graph_data[\"user\", \"rates\", \"book\"][\"train_edge_index\"][1]]).sum(axis=1).sigmoid()\n",
    "        loss = criterion(out, graph_data[\"user\", \"rates\", \"book\"].train_ratings)\n",
    "        epoch_train_loss.append(10*loss.item()**0.5)\n",
    "        loss.backward()\n",
    "        optimizer.step()\n",
    "\n",
    "        model.eval()\n",
    "        with torch.no_grad():\n",
    "            users_latent, books_latent = model(graph_data.x_dict, graph_data.edge_index_dict)\n",
    "            out = (users_latent[graph_data[\"user\", \"rates\", \"book\"][\"val_edge_index\"][0]] * books_latent[graph_data[\"user\", \"rates\", \"book\"][\"val_edge_index\"][1]]).sum(axis=1).sigmoid()\n",
    "            loss = criterion(out, graph_data[\"user\", \"rates\", \"book\"].val_ratings)\n",
    "            epoch_val_loss.append(10*loss.item()**0.5)\n",
    "\n",
    "        if i == 1 or i % 200 == 0:\n",
    "            print(f'Epoch: {i}, Train Loss: {epoch_train_loss[-1]}, Validation Loss: {epoch_val_loss[-1]}')\n",
    "\n",
    "    return epoch_train_loss, epoch_val_loss"
   ]
  },
  {
   "cell_type": "code",
   "execution_count": 73,
   "metadata": {},
   "outputs": [
    {
     "name": "stdout",
     "output_type": "stream",
     "text": [
      "Epoch: 1, Train Loss: 2.6995497030033864, Validation Loss: 2.699459589635061\n",
      "Epoch: 200, Train Loss: 1.7125949321663603, Validation Loss: 1.7241946053207988\n",
      "Epoch: 400, Train Loss: 1.6068965776620159, Validation Loss: 1.6477772940917528\n",
      "Epoch: 600, Train Loss: 1.5408383522520166, Validation Loss: 1.6049538155510814\n",
      "Epoch: 800, Train Loss: 1.5094350771271494, Validation Loss: 1.5780731419267127\n",
      "Epoch: 1000, Train Loss: 1.4908247037183453, Validation Loss: 1.567142087805205\n",
      "Epoch: 1200, Train Loss: 1.4704633367842335, Validation Loss: 1.5584250002647162\n",
      "Epoch: 1400, Train Loss: 1.46015217016639, Validation Loss: 1.5570500217192378\n",
      "Epoch: 1600, Train Loss: 1.4472673701843364, Validation Loss: 1.5557526696708035\n",
      "Epoch: 1800, Train Loss: 1.4452246690817347, Validation Loss: 1.555027318362624\n",
      "Epoch: 2000, Train Loss: 1.4351144126271964, Validation Loss: 1.5516922410539216\n",
      "CPU times: total: 3.72 s\n",
      "Wall time: 32.6 s\n"
     ]
    }
   ],
   "source": [
    "%%time\n",
    "lr = 0.001\n",
    "N_EPOCHS = 2000\n",
    "\n",
    "han = HANConvRecommender(graph_data)\n",
    "han.to(device)\n",
    "optim = Adam(han.parameters(), lr=lr)\n",
    "\n",
    "training_loss, val_loss = train_recommender_han(han, graph_data.to(device), optim, MSELoss(), N_EPOCHS)"
   ]
  },
  {
   "cell_type": "code",
   "execution_count": 76,
   "metadata": {},
   "outputs": [
    {
     "data": {
      "text/plain": [
       "HANConvRecommender(\n",
       "  (han): HANConv(512, heads=1)\n",
       "  (linear1): Linear(in_features=512, out_features=32, bias=True)\n",
       "  (linear2): Linear(in_features=512, out_features=32, bias=True)\n",
       ")"
      ]
     },
     "execution_count": 76,
     "metadata": {},
     "output_type": "execute_result"
    }
   ],
   "source": [
    "han"
   ]
  },
  {
   "cell_type": "code",
   "execution_count": 75,
   "metadata": {},
   "outputs": [
    {
     "data": {
      "image/png": "[encoded data removed]",
      "text/plain": [
       "<Figure size 800x600 with 1 Axes>"
      ]
     },
     "metadata": {},
     "output_type": "display_data"
    }
   ],
   "source": [
    "plot_loss_and_acc(training_loss, val_loss)"
   ]
  },
  {
   "cell_type": "code",
   "execution_count": 65,
   "metadata": {},
   "outputs": [
    {
     "name": "stdout",
     "output_type": "stream",
     "text": [
      "1.5468253455236156\n",
      "CPU times: total: 0 ns\n",
      "Wall time: 0 ns\n"
     ]
    }
   ],
   "source": [
    "%%time\n",
    "han.eval()\n",
    "with torch.no_grad():\n",
    "    users_latent, books_latent = han(graph_data.x_dict, graph_data.edge_index_dict)\n",
    "    out = (users_latent[graph_data[\"user\", \"rates\", \"book\"][\"test_edge_index\"][0]] * books_latent[graph_data[\"user\", \"rates\", \"book\"][\"test_edge_index\"][1]]).sum(axis=1).sigmoid()\n",
    "    loss = ((out - graph_data[\"user\", \"rates\", \"book\"].test_ratings)**2).mean()\n",
    "    print(10*loss.item()**0.5)"
   ]
  },
  {
   "cell_type": "code",
   "execution_count": 109,
   "metadata": {},
   "outputs": [
    {
     "data": {
      "text/html": [
       "<style>#sk-container-id-7 {color: black;}#sk-container-id-7 pre{padding: 0;}#sk-container-id-7 div.sk-toggleable {background-color: white;}#sk-container-id-7 label.sk-toggleable__label {cursor: pointer;display: block;width: 100%;margin-bottom: 0;padding: 0.3em;box-sizing: border-box;text-align: center;}#sk-container-id-7 label.sk-toggleable__label-arrow:before {content: \"▸\";float: left;margin-right: 0.25em;color: #696969;}#sk-container-id-7 label.sk-toggleable__label-arrow:hover:before {color: black;}#sk-container-id-7 div.sk-estimator:hover label.sk-toggleable__label-arrow:before {color: black;}#sk-container-id-7 div.sk-toggleable__content {max-height: 0;max-width: 0;overflow: hidden;text-align: left;background-color: #f0f8ff;}#sk-container-id-7 div.sk-toggleable__content pre {margin: 0.2em;color: black;border-radius: 0.25em;background-color: #f0f8ff;}#sk-container-id-7 input.sk-toggleable__control:checked~div.sk-toggleable__content {max-height: 200px;max-width: 100%;overflow: auto;}#sk-container-id-7 input.sk-toggleable__control:checked~label.sk-toggleable__label-arrow:before {content: \"▾\";}#sk-container-id-7 div.sk-estimator input.sk-toggleable__control:checked~label.sk-toggleable__label {background-color: #d4ebff;}#sk-container-id-7 div.sk-label input.sk-toggleable__control:checked~label.sk-toggleable__label {background-color: #d4ebff;}#sk-container-id-7 input.sk-hidden--visually {border: 0;clip: rect(1px 1px 1px 1px);clip: rect(1px, 1px, 1px, 1px);height: 1px;margin: -1px;overflow: hidden;padding: 0;position: absolute;width: 1px;}#sk-container-id-7 div.sk-estimator {font-family: monospace;background-color: #f0f8ff;border: 1px dotted black;border-radius: 0.25em;box-sizing: border-box;margin-bottom: 0.5em;}#sk-container-id-7 div.sk-estimator:hover {background-color: #d4ebff;}#sk-container-id-7 div.sk-parallel-item::after {content: \"\";width: 100%;border-bottom: 1px solid gray;flex-grow: 1;}#sk-container-id-7 div.sk-label:hover label.sk-toggleable__label {background-color: #d4ebff;}#sk-container-id-7 div.sk-serial::before {content: \"\";position: absolute;border-left: 1px solid gray;box-sizing: border-box;top: 0;bottom: 0;left: 50%;z-index: 0;}#sk-container-id-7 div.sk-serial {display: flex;flex-direction: column;align-items: center;background-color: white;padding-right: 0.2em;padding-left: 0.2em;position: relative;}#sk-container-id-7 div.sk-item {position: relative;z-index: 1;}#sk-container-id-7 div.sk-parallel {display: flex;align-items: stretch;justify-content: center;background-color: white;position: relative;}#sk-container-id-7 div.sk-item::before, #sk-container-id-7 div.sk-parallel-item::before {content: \"\";position: absolute;border-left: 1px solid gray;box-sizing: border-box;top: 0;bottom: 0;left: 50%;z-index: -1;}#sk-container-id-7 div.sk-parallel-item {display: flex;flex-direction: column;z-index: 1;position: relative;background-color: white;}#sk-container-id-7 div.sk-parallel-item:first-child::after {align-self: flex-end;width: 50%;}#sk-container-id-7 div.sk-parallel-item:last-child::after {align-self: flex-start;width: 50%;}#sk-container-id-7 div.sk-parallel-item:only-child::after {width: 0;}#sk-container-id-7 div.sk-dashed-wrapped {border: 1px dashed gray;margin: 0 0.4em 0.5em 0.4em;box-sizing: border-box;padding-bottom: 0.4em;background-color: white;}#sk-container-id-7 div.sk-label label {font-family: monospace;font-weight: bold;display: inline-block;line-height: 1.2em;}#sk-container-id-7 div.sk-label-container {text-align: center;}#sk-container-id-7 div.sk-container {/* jupyter's `normalize.less` sets `[hidden] { display: none; }` but bootstrap.min.css set `[hidden] { display: none !important; }` so we also need the `!important` here to be able to override the default hidden behavior on the sphinx rendered scikit-learn.org. See: https://github.com/scikit-learn/scikit-learn/issues/21755 */display: inline-block !important;position: relative;}#sk-container-id-7 div.sk-text-repr-fallback {display: none;}</style><div id=\"sk-container-id-7\" class=\"sk-top-container\"><div class=\"sk-text-repr-fallback\"><pre>DBSCAN(eps=0.31, metric=&#x27;cosine&#x27;)</pre><b>In a Jupyter environment, please rerun this cell to show the HTML representation or trust the notebook. <br />On GitHub, the HTML representation is unable to render, please try loading this page with nbviewer.org.</b></div><div class=\"sk-container\" hidden><div class=\"sk-item\"><div class=\"sk-estimator sk-toggleable\"><input class=\"sk-toggleable__control sk-hidden--visually\" id=\"sk-estimator-id-7\" type=\"checkbox\" checked><label for=\"sk-estimator-id-7\" class=\"sk-toggleable__label sk-toggleable__label-arrow\">DBSCAN</label><div class=\"sk-toggleable__content\"><pre>DBSCAN(eps=0.31, metric=&#x27;cosine&#x27;)</pre></div></div></div></div></div>"
      ],
      "text/plain": [
       "DBSCAN(eps=0.31, metric='cosine')"
      ]
     },
     "execution_count": 109,
     "metadata": {},
     "output_type": "execute_result"
    }
   ],
   "source": [
    "from sklearn.cluster import DBSCAN\n",
    "rr = np.concatenate([ratings_train, ratings_val, ratings_test], axis=0)\n",
    "dbs = DBSCAN(eps=0.30, metric='cosine')\n",
    "dbs.fit(rr[:, :-1])"
   ]
  },
  {
   "cell_type": "code",
   "execution_count": 98,
   "metadata": {},
   "outputs": [
    {
     "data": {
      "text/plain": [
       "(2, {-1, 0, 1, 2, 3, 4, 5, 6, 7, 8, 9, 10})"
      ]
     },
     "execution_count": 98,
     "metadata": {},
     "output_type": "execute_result"
    }
   ],
   "source": [
    "np.sum(dbs.labels_==-1), set(dbs.labels_)"
   ]
  },
  {
   "cell_type": "code",
   "execution_count": 100,
   "metadata": {},
   "outputs": [
    {
     "name": "stdout",
     "output_type": "stream",
     "text": [
      "44109\n",
      "12\n",
      "15\n",
      "26\n",
      "37\n",
      "27\n",
      "11\n",
      "35\n",
      "6\n",
      "16\n",
      "4\n"
     ]
    }
   ],
   "source": [
    "for i in range(11):\n",
    "    print(np.sum(dbs.labels_==i))"
   ]
  },
  {
   "cell_type": "code",
   "execution_count": null,
   "metadata": {},
   "outputs": [],
   "source": []
  }
 ],
 "metadata": {
  "kernelspec": {
   "display_name": "Python 3 (ipykernel)",
   "language": "python",
   "name": "python3"
  },
  "language_info": {
   "codemirror_mode": {
    "name": "ipython",
    "version": 3
   },
   "file_extension": ".py",
   "mimetype": "text/x-python",
   "name": "python",
   "nbconvert_exporter": "python",
   "pygments_lexer": "ipython3",
   "version": "3.10.13"
  }
 },
 "nbformat": 4,
 "nbformat_minor": 4
}
